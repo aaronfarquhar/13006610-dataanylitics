{
  "nbformat": 4,
  "nbformat_minor": 0,
  "metadata": {
    "colab": {
      "provenance": [],
      "authorship_tag": "ABX9TyOcl8NQHhQQaOcNur8L2M0T",
      "include_colab_link": true
    },
    "kernelspec": {
      "name": "python3",
      "display_name": "Python 3"
    },
    "language_info": {
      "name": "python"
    }
  },
  "cells": [
    {
      "cell_type": "markdown",
      "metadata": {
        "id": "view-in-github",
        "colab_type": "text"
      },
      "source": [
        "<a href=\"https://colab.research.google.com/github/aaronfarquhar/13006610-dataanylitics/blob/main/Assessment_2_DAOTW_part1.ipynb\" target=\"_parent\"><img src=\"https://colab.research.google.com/assets/colab-badge.svg\" alt=\"Open In Colab\"/></a>"
      ]
    },
    {
      "cell_type": "markdown",
      "source": [
        "**Introduction**\n",
        "\n",
        "In this report a Linear Regresion model will be crated for predicting the Number of collisions based on trends derived from the previous report's datasets."
      ],
      "metadata": {
        "id": "OaIYCpVu_1hM"
      }
    },
    {
      "cell_type": "code",
      "execution_count": 45,
      "metadata": {
        "id": "PAQBTUgSDhVO"
      },
      "outputs": [],
      "source": [
        "#imports for python\n",
        "import pandas as pd\n",
        "import numpy as np\n",
        "import tensorflow as tf\n",
        "from tensorflow import keras\n",
        "from tensorflow.keras import layers\n",
        "\n",
        "#read data source and create dataframe\n",
        "df = pd.read_csv('https://raw.githubusercontent.com/aaronfarquhar/13006610-dataanylitics/main/bq-results-20230421-092737-1682069277611.csv')"
      ]
    },
    {
      "cell_type": "code",
      "source": [
        "print(tf.__version__) #for checking the tensorflow import"
      ],
      "metadata": {
        "colab": {
          "base_uri": "https://localhost:8080/"
        },
        "id": "kkz97mANL8Np",
        "outputId": "58a74699-9790-48f8-9780-38dac79ad04c"
      },
      "execution_count": 46,
      "outputs": [
        {
          "output_type": "stream",
          "name": "stdout",
          "text": [
            "2.12.0\n"
          ]
        }
      ]
    },
    {
      "cell_type": "markdown",
      "source": [
        "**Methodology**\n",
        "\n",
        "As can be seen below the collated data from assessment 1 has been narrrowed down to the parts that showed clear trends. this is the Tempreture, Visiblity, day, Month, and year. this first part will look at tempreture and build a linear regresion model for it. As a reminder: temp (Mean temperature for the day in degrees Fahrenheit to tenths. Missing = 9999.9), visib (Mean visibility for the day in miles to tenths. Missing = 999.9), day, mo (month), and year. The data is ordered by Year, Month, Day."
      ],
      "metadata": {
        "id": "yK3akQBNAuRh"
      }
    },
    {
      "cell_type": "code",
      "source": [
        "#check data is present and succsessfully read\n",
        "print(df)"
      ],
      "metadata": {
        "colab": {
          "base_uri": "https://localhost:8080/"
        },
        "id": "Sxqme4JGEJM5",
        "outputId": "7ecbb039-07bb-4ad5-c144-395333bc80c6"
      },
      "execution_count": 47,
      "outputs": [
        {
          "output_type": "stream",
          "name": "stdout",
          "text": [
            "      temp  visib  day  mo  year  NUM_COLLISIONS\n",
            "0     76.0    8.9    1   7  2012             505\n",
            "1     78.5   10.0    1   7  2012             533\n",
            "2     79.0    9.2    1   7  2012             528\n",
            "3     73.1   10.0    1   7  2012             530\n",
            "4     80.3   10.0    1   7  2012             564\n",
            "...    ...    ...  ...  ..   ...             ...\n",
            "3160  51.5    6.3    6  12  2020             278\n",
            "3161  38.5   10.0    7  12  2020             194\n",
            "3162  39.3    9.8    7  12  2020             241\n",
            "3163  53.4    6.3    7  12  2020             265\n",
            "3164  34.2   10.0    7  12  2020             184\n",
            "\n",
            "[3165 rows x 6 columns]\n"
          ]
        }
      ]
    },
    {
      "cell_type": "code",
      "source": [
        "#temp and collisions table\n",
        "inputs_for_training = [df['temp'], df['NUM_COLLISIONS']]\n",
        "header = ['Mean Temputure', 'Number of Collisions']\n",
        "combined1 = pd.concat(inputs_for_training, axis = 1, keys=header)\n",
        "print (combined1)"
      ],
      "metadata": {
        "colab": {
          "base_uri": "https://localhost:8080/"
        },
        "id": "tY07BP6FFX2H",
        "outputId": "a1617372-40dc-4737-a677-160399d3ff67"
      },
      "execution_count": 48,
      "outputs": [
        {
          "output_type": "stream",
          "name": "stdout",
          "text": [
            "      Mean Temputure  Number of Collisions\n",
            "0               76.0                   505\n",
            "1               78.5                   533\n",
            "2               79.0                   528\n",
            "3               73.1                   530\n",
            "4               80.3                   564\n",
            "...              ...                   ...\n",
            "3160            51.5                   278\n",
            "3161            38.5                   194\n",
            "3162            39.3                   241\n",
            "3163            53.4                   265\n",
            "3164            34.2                   184\n",
            "\n",
            "[3165 rows x 2 columns]\n"
          ]
        }
      ]
    },
    {
      "cell_type": "markdown",
      "source": [
        "The Data for training the model will be divide 80/20. where 80% of the data is used to train the model and 20% is used to test the model. this split was chosen as this is a connom split used in most Models and there does not apear to be any factors that may require a different split."
      ],
      "metadata": {
        "id": "72bsaczqB4bk"
      }
    },
    {
      "cell_type": "code",
      "source": [
        "#training and testing data\n",
        "train_dataset = combined1.sample(frac=0.8, random_state=0)\n",
        "test_dataset = combined1.drop(train_dataset.index)\n",
        "\n",
        "#prints for checking to ensure data has split properly\n",
        "print(train_dataset)\n",
        "print(test_dataset)\n"
      ],
      "metadata": {
        "colab": {
          "base_uri": "https://localhost:8080/"
        },
        "id": "S4PEpIebWnZ8",
        "outputId": "c799f454-749e-46f6-f24d-e0d4434cba33"
      },
      "execution_count": 49,
      "outputs": [
        {
          "output_type": "stream",
          "name": "stdout",
          "text": [
            "      Mean Temputure  Number of Collisions\n",
            "2533            48.8                   592\n",
            "1436            52.5                   638\n",
            "2567            52.5                   722\n",
            "3139            40.8                   320\n",
            "1473            65.7                   742\n",
            "...              ...                   ...\n",
            "1181            71.4                   545\n",
            "337             60.8                   707\n",
            "46              72.0                   618\n",
            "747             51.4                   451\n",
            "2891            46.7                   127\n",
            "\n",
            "[2532 rows x 2 columns]\n",
            "      Mean Temputure  Number of Collisions\n",
            "0               76.0                   505\n",
            "3               73.1                   530\n",
            "7               80.3                   574\n",
            "21              81.9                   638\n",
            "24              84.9                   490\n",
            "...              ...                   ...\n",
            "3142            37.7                   315\n",
            "3143            34.1                   238\n",
            "3145            38.5                   360\n",
            "3153            41.5                   348\n",
            "3159            52.1                   285\n",
            "\n",
            "[633 rows x 2 columns]\n"
          ]
        }
      ]
    },
    {
      "cell_type": "markdown",
      "source": [
        "Data is copied for usage, so that the data cannot be altered in any way by mistake, and so that the data can be reused more easally in the future if required without having to restart the entire runtime."
      ],
      "metadata": {
        "id": "12-RPlnEC92p"
      }
    },
    {
      "cell_type": "code",
      "source": [
        "train_copy = train_dataset.copy()\n",
        "test_copy = test_dataset.copy()\n",
        "\n",
        "training_label = train_copy.pop('Number of Collisions')\n",
        "testing_labels = test_copy.pop('Number of Collisions')\n",
        "\n",
        "print(test_copy)\n",
        "print(testing_labels)"
      ],
      "metadata": {
        "colab": {
          "base_uri": "https://localhost:8080/"
        },
        "id": "DNhuRlR4YZrk",
        "outputId": "fcfe77ce-c63d-4b74-b102-9941828278f1"
      },
      "execution_count": 50,
      "outputs": [
        {
          "output_type": "stream",
          "name": "stdout",
          "text": [
            "      Mean Temputure\n",
            "0               76.0\n",
            "3               73.1\n",
            "7               80.3\n",
            "21              81.9\n",
            "24              84.9\n",
            "...              ...\n",
            "3142            37.7\n",
            "3143            34.1\n",
            "3145            38.5\n",
            "3153            41.5\n",
            "3159            52.1\n",
            "\n",
            "[633 rows x 1 columns]\n",
            "0       505\n",
            "3       530\n",
            "7       574\n",
            "21      638\n",
            "24      490\n",
            "       ... \n",
            "3142    315\n",
            "3143    238\n",
            "3145    360\n",
            "3153    348\n",
            "3159    285\n",
            "Name: Number of Collisions, Length: 633, dtype: int64\n"
          ]
        }
      ]
    },
    {
      "cell_type": "markdown",
      "source": [
        "Below the model is set up, with a normalisation layer to convert the intput data to a more usable form for the model. it is then added to the model itself and complied for use."
      ],
      "metadata": {
        "id": "jxskzgAdDZpP"
      }
    },
    {
      "cell_type": "code",
      "source": [
        "from keras.layers.preprocessing import normalization\n",
        "normalisation_layer = tf.keras.layers.Normalization(input_shape=[1,], axis = None)\n",
        "#convert values to -1 to 1\n",
        "normalisation_layer.adapt(np.array(train_copy))"
      ],
      "metadata": {
        "id": "FA5h5Hkcetdm"
      },
      "execution_count": 51,
      "outputs": []
    },
    {
      "cell_type": "code",
      "source": [
        "model=tf.keras.Sequential([\n",
        "    normalisation_layer,\n",
        "    tf.keras.layers.Dense(units=1)\n",
        "])"
      ],
      "metadata": {
        "id": "XzPU0YRBiRgy"
      },
      "execution_count": 52,
      "outputs": []
    },
    {
      "cell_type": "code",
      "source": [
        "model.compile(\n",
        "    optimizer = tf.optimizers.Adam(learning_rate = 0.1),\n",
        "    loss = 'mean_absolute_error'\n",
        "    )"
      ],
      "metadata": {
        "id": "TZejcxJP2Aqh"
      },
      "execution_count": 53,
      "outputs": []
    },
    {
      "cell_type": "markdown",
      "source": [
        "**Results**"
      ],
      "metadata": {
        "id": "9y5esjCFD0M3"
      }
    },
    {
      "cell_type": "code",
      "source": [
        "%%time\n",
        "model_output = model.fit(train_copy, training_label, epochs=100, validation_split = 0.2, verbose = 1 )"
      ],
      "metadata": {
        "colab": {
          "base_uri": "https://localhost:8080/"
        },
        "id": "rbtb5Ore3BdQ",
        "outputId": "cdba92b9-e8ff-4441-a73a-66ad433e9bea"
      },
      "execution_count": 54,
      "outputs": [
        {
          "output_type": "stream",
          "name": "stdout",
          "text": [
            "Epoch 1/100\n",
            "64/64 [==============================] - 1s 5ms/step - loss: 558.0705 - val_loss: 554.5651\n",
            "Epoch 2/100\n",
            "64/64 [==============================] - 0s 4ms/step - loss: 551.6661 - val_loss: 548.1686\n",
            "Epoch 3/100\n",
            "64/64 [==============================] - 0s 3ms/step - loss: 545.2657 - val_loss: 541.7712\n",
            "Epoch 4/100\n",
            "64/64 [==============================] - 0s 3ms/step - loss: 538.8659 - val_loss: 535.3707\n",
            "Epoch 5/100\n",
            "64/64 [==============================] - 0s 3ms/step - loss: 532.4642 - val_loss: 528.9695\n",
            "Epoch 6/100\n",
            "64/64 [==============================] - 0s 4ms/step - loss: 526.0725 - val_loss: 522.5721\n",
            "Epoch 7/100\n",
            "64/64 [==============================] - 0s 4ms/step - loss: 519.6669 - val_loss: 516.1692\n",
            "Epoch 8/100\n",
            "64/64 [==============================] - 0s 4ms/step - loss: 513.2705 - val_loss: 509.7733\n",
            "Epoch 9/100\n",
            "64/64 [==============================] - 0s 4ms/step - loss: 506.8672 - val_loss: 503.3734\n",
            "Epoch 10/100\n",
            "64/64 [==============================] - 0s 2ms/step - loss: 500.4697 - val_loss: 496.9713\n",
            "Epoch 11/100\n",
            "64/64 [==============================] - 0s 2ms/step - loss: 494.0676 - val_loss: 490.5662\n",
            "Epoch 12/100\n",
            "64/64 [==============================] - 0s 2ms/step - loss: 487.6700 - val_loss: 484.1721\n",
            "Epoch 13/100\n",
            "64/64 [==============================] - 0s 2ms/step - loss: 481.2673 - val_loss: 477.7719\n",
            "Epoch 14/100\n",
            "64/64 [==============================] - 0s 2ms/step - loss: 474.8677 - val_loss: 471.3725\n",
            "Epoch 15/100\n",
            "64/64 [==============================] - 0s 2ms/step - loss: 468.4650 - val_loss: 464.9734\n",
            "Epoch 16/100\n",
            "64/64 [==============================] - 0s 2ms/step - loss: 462.0754 - val_loss: 458.5806\n",
            "Epoch 17/100\n",
            "64/64 [==============================] - 0s 2ms/step - loss: 455.6925 - val_loss: 452.1980\n",
            "Epoch 18/100\n",
            "64/64 [==============================] - 0s 3ms/step - loss: 449.3387 - val_loss: 445.8130\n",
            "Epoch 19/100\n",
            "64/64 [==============================] - 0s 2ms/step - loss: 442.9910 - val_loss: 439.4363\n",
            "Epoch 20/100\n",
            "64/64 [==============================] - 0s 2ms/step - loss: 436.6611 - val_loss: 433.0824\n",
            "Epoch 21/100\n",
            "64/64 [==============================] - 0s 2ms/step - loss: 430.3422 - val_loss: 426.7490\n",
            "Epoch 22/100\n",
            "64/64 [==============================] - 0s 2ms/step - loss: 424.0460 - val_loss: 420.4439\n",
            "Epoch 23/100\n",
            "64/64 [==============================] - 0s 2ms/step - loss: 417.7940 - val_loss: 414.1744\n",
            "Epoch 24/100\n",
            "64/64 [==============================] - 0s 2ms/step - loss: 411.5560 - val_loss: 407.9156\n",
            "Epoch 25/100\n",
            "64/64 [==============================] - 0s 2ms/step - loss: 405.3332 - val_loss: 401.7004\n",
            "Epoch 26/100\n",
            "64/64 [==============================] - 0s 2ms/step - loss: 399.1299 - val_loss: 395.5090\n",
            "Epoch 27/100\n",
            "64/64 [==============================] - 0s 2ms/step - loss: 392.9431 - val_loss: 389.3628\n",
            "Epoch 28/100\n",
            "64/64 [==============================] - 0s 2ms/step - loss: 386.8112 - val_loss: 383.2595\n",
            "Epoch 29/100\n",
            "64/64 [==============================] - 0s 2ms/step - loss: 380.7038 - val_loss: 377.2058\n",
            "Epoch 30/100\n",
            "64/64 [==============================] - 0s 2ms/step - loss: 374.6112 - val_loss: 371.1835\n",
            "Epoch 31/100\n",
            "64/64 [==============================] - 0s 2ms/step - loss: 368.5681 - val_loss: 365.2177\n",
            "Epoch 32/100\n",
            "64/64 [==============================] - 0s 2ms/step - loss: 362.5906 - val_loss: 359.2267\n",
            "Epoch 33/100\n",
            "64/64 [==============================] - 0s 2ms/step - loss: 356.6136 - val_loss: 353.2556\n",
            "Epoch 34/100\n",
            "64/64 [==============================] - 0s 2ms/step - loss: 350.6407 - val_loss: 347.2976\n",
            "Epoch 35/100\n",
            "64/64 [==============================] - 0s 2ms/step - loss: 344.6679 - val_loss: 341.3236\n",
            "Epoch 36/100\n",
            "64/64 [==============================] - 0s 2ms/step - loss: 338.7168 - val_loss: 335.4085\n",
            "Epoch 37/100\n",
            "64/64 [==============================] - 0s 2ms/step - loss: 332.8041 - val_loss: 329.4890\n",
            "Epoch 38/100\n",
            "64/64 [==============================] - 0s 2ms/step - loss: 326.9264 - val_loss: 323.6236\n",
            "Epoch 39/100\n",
            "64/64 [==============================] - 0s 2ms/step - loss: 321.1267 - val_loss: 317.8347\n",
            "Epoch 40/100\n",
            "64/64 [==============================] - 0s 2ms/step - loss: 315.3951 - val_loss: 312.0794\n",
            "Epoch 41/100\n",
            "64/64 [==============================] - 0s 2ms/step - loss: 309.6832 - val_loss: 306.4337\n",
            "Epoch 42/100\n",
            "64/64 [==============================] - 0s 2ms/step - loss: 304.0371 - val_loss: 300.8314\n",
            "Epoch 43/100\n",
            "64/64 [==============================] - 0s 2ms/step - loss: 298.4132 - val_loss: 295.2801\n",
            "Epoch 44/100\n",
            "64/64 [==============================] - 0s 2ms/step - loss: 292.8557 - val_loss: 289.8092\n",
            "Epoch 45/100\n",
            "64/64 [==============================] - 0s 2ms/step - loss: 287.3831 - val_loss: 284.4220\n",
            "Epoch 46/100\n",
            "64/64 [==============================] - 0s 2ms/step - loss: 281.9821 - val_loss: 279.0623\n",
            "Epoch 47/100\n",
            "64/64 [==============================] - 0s 3ms/step - loss: 276.6615 - val_loss: 273.7617\n",
            "Epoch 48/100\n",
            "64/64 [==============================] - 0s 2ms/step - loss: 271.4132 - val_loss: 268.4927\n",
            "Epoch 49/100\n",
            "64/64 [==============================] - 0s 2ms/step - loss: 266.2347 - val_loss: 263.3649\n",
            "Epoch 50/100\n",
            "64/64 [==============================] - 0s 2ms/step - loss: 261.1768 - val_loss: 258.3154\n",
            "Epoch 51/100\n",
            "64/64 [==============================] - 0s 2ms/step - loss: 256.1754 - val_loss: 253.3206\n",
            "Epoch 52/100\n",
            "64/64 [==============================] - 0s 2ms/step - loss: 251.2518 - val_loss: 248.3886\n",
            "Epoch 53/100\n",
            "64/64 [==============================] - 0s 2ms/step - loss: 246.3544 - val_loss: 243.4670\n",
            "Epoch 54/100\n",
            "64/64 [==============================] - 0s 2ms/step - loss: 241.4984 - val_loss: 238.5897\n",
            "Epoch 55/100\n",
            "64/64 [==============================] - 0s 2ms/step - loss: 236.6922 - val_loss: 233.8151\n",
            "Epoch 56/100\n",
            "64/64 [==============================] - 0s 2ms/step - loss: 231.9681 - val_loss: 229.0573\n",
            "Epoch 57/100\n",
            "64/64 [==============================] - 0s 2ms/step - loss: 227.2849 - val_loss: 224.3516\n",
            "Epoch 58/100\n",
            "64/64 [==============================] - 0s 2ms/step - loss: 222.6180 - val_loss: 219.5609\n",
            "Epoch 59/100\n",
            "64/64 [==============================] - 0s 2ms/step - loss: 217.9839 - val_loss: 214.8611\n",
            "Epoch 60/100\n",
            "64/64 [==============================] - 0s 2ms/step - loss: 213.3970 - val_loss: 210.1978\n",
            "Epoch 61/100\n",
            "64/64 [==============================] - 0s 2ms/step - loss: 208.9375 - val_loss: 205.6072\n",
            "Epoch 62/100\n",
            "64/64 [==============================] - 0s 2ms/step - loss: 204.5568 - val_loss: 201.0909\n",
            "Epoch 63/100\n",
            "64/64 [==============================] - 0s 3ms/step - loss: 200.2572 - val_loss: 196.6533\n",
            "Epoch 64/100\n",
            "64/64 [==============================] - 0s 2ms/step - loss: 196.0218 - val_loss: 192.3825\n",
            "Epoch 65/100\n",
            "64/64 [==============================] - 0s 2ms/step - loss: 191.8226 - val_loss: 188.1513\n",
            "Epoch 66/100\n",
            "64/64 [==============================] - 0s 2ms/step - loss: 187.6836 - val_loss: 183.9989\n",
            "Epoch 67/100\n",
            "64/64 [==============================] - 0s 2ms/step - loss: 183.6178 - val_loss: 179.9967\n",
            "Epoch 68/100\n",
            "64/64 [==============================] - 0s 2ms/step - loss: 179.5790 - val_loss: 175.9989\n",
            "Epoch 69/100\n",
            "64/64 [==============================] - 0s 2ms/step - loss: 175.6609 - val_loss: 172.0295\n",
            "Epoch 70/100\n",
            "64/64 [==============================] - 0s 2ms/step - loss: 171.7755 - val_loss: 168.0795\n",
            "Epoch 71/100\n",
            "64/64 [==============================] - 0s 2ms/step - loss: 168.0045 - val_loss: 164.2101\n",
            "Epoch 72/100\n",
            "64/64 [==============================] - 0s 2ms/step - loss: 164.2956 - val_loss: 160.4335\n",
            "Epoch 73/100\n",
            "64/64 [==============================] - 0s 2ms/step - loss: 160.7155 - val_loss: 156.7434\n",
            "Epoch 74/100\n",
            "64/64 [==============================] - 0s 2ms/step - loss: 157.2068 - val_loss: 152.9818\n",
            "Epoch 75/100\n",
            "64/64 [==============================] - 0s 2ms/step - loss: 153.7556 - val_loss: 149.3869\n",
            "Epoch 76/100\n",
            "64/64 [==============================] - 0s 2ms/step - loss: 150.4225 - val_loss: 145.9256\n",
            "Epoch 77/100\n",
            "64/64 [==============================] - 0s 4ms/step - loss: 147.1496 - val_loss: 142.4799\n",
            "Epoch 78/100\n",
            "64/64 [==============================] - 0s 3ms/step - loss: 143.9347 - val_loss: 139.1471\n",
            "Epoch 79/100\n",
            "64/64 [==============================] - 0s 4ms/step - loss: 140.7684 - val_loss: 135.9124\n",
            "Epoch 80/100\n",
            "64/64 [==============================] - 0s 4ms/step - loss: 137.7234 - val_loss: 132.8594\n",
            "Epoch 81/100\n",
            "64/64 [==============================] - 0s 3ms/step - loss: 134.8650 - val_loss: 129.9904\n",
            "Epoch 82/100\n",
            "64/64 [==============================] - 0s 3ms/step - loss: 132.1753 - val_loss: 127.2916\n",
            "Epoch 83/100\n",
            "64/64 [==============================] - 0s 3ms/step - loss: 129.6007 - val_loss: 124.7477\n",
            "Epoch 84/100\n",
            "64/64 [==============================] - 0s 4ms/step - loss: 127.1366 - val_loss: 122.3047\n",
            "Epoch 85/100\n",
            "64/64 [==============================] - 0s 3ms/step - loss: 124.8040 - val_loss: 120.0369\n",
            "Epoch 86/100\n",
            "64/64 [==============================] - 0s 3ms/step - loss: 122.5749 - val_loss: 117.9203\n",
            "Epoch 87/100\n",
            "64/64 [==============================] - 0s 4ms/step - loss: 120.5338 - val_loss: 115.9708\n",
            "Epoch 88/100\n",
            "64/64 [==============================] - 0s 3ms/step - loss: 118.6482 - val_loss: 114.1722\n",
            "Epoch 89/100\n",
            "64/64 [==============================] - 0s 3ms/step - loss: 116.9058 - val_loss: 112.4332\n",
            "Epoch 90/100\n",
            "64/64 [==============================] - 0s 2ms/step - loss: 115.3061 - val_loss: 110.9505\n",
            "Epoch 91/100\n",
            "64/64 [==============================] - 0s 2ms/step - loss: 113.8773 - val_loss: 109.6562\n",
            "Epoch 92/100\n",
            "64/64 [==============================] - 0s 2ms/step - loss: 112.6141 - val_loss: 108.5410\n",
            "Epoch 93/100\n",
            "64/64 [==============================] - 0s 2ms/step - loss: 111.4223 - val_loss: 107.5071\n",
            "Epoch 94/100\n",
            "64/64 [==============================] - 0s 2ms/step - loss: 110.3408 - val_loss: 106.6004\n",
            "Epoch 95/100\n",
            "64/64 [==============================] - 0s 2ms/step - loss: 109.3443 - val_loss: 105.8307\n",
            "Epoch 96/100\n",
            "64/64 [==============================] - 0s 2ms/step - loss: 108.4752 - val_loss: 105.2270\n",
            "Epoch 97/100\n",
            "64/64 [==============================] - 0s 2ms/step - loss: 107.7417 - val_loss: 104.6732\n",
            "Epoch 98/100\n",
            "64/64 [==============================] - 0s 2ms/step - loss: 107.0754 - val_loss: 104.2875\n",
            "Epoch 99/100\n",
            "64/64 [==============================] - 0s 2ms/step - loss: 106.4923 - val_loss: 103.8571\n",
            "Epoch 100/100\n",
            "64/64 [==============================] - 0s 2ms/step - loss: 105.9948 - val_loss: 103.5306\n",
            "CPU times: user 17.2 s, sys: 839 ms, total: 18 s\n",
            "Wall time: 21.1 s\n"
          ]
        }
      ]
    },
    {
      "cell_type": "markdown",
      "source": [
        "As can be seen above, the model is ran for 100 epochs. at the end of the running it can be seen that the reported Val_loss of the model was around 103. since it cannot be seen that the loss ever began creeping higher again, it can be presumed that the model is reasonably accurate. "
      ],
      "metadata": {
        "id": "VDAaSL8KD5ir"
      }
    },
    {
      "cell_type": "code",
      "source": [
        "accuracy = model.evaluate(test_copy, testing_labels)"
      ],
      "metadata": {
        "colab": {
          "base_uri": "https://localhost:8080/"
        },
        "id": "l2LYhJdI4uXa",
        "outputId": "b3461c83-b3eb-43b4-b17e-fb3ea37570f2"
      },
      "execution_count": 55,
      "outputs": [
        {
          "output_type": "stream",
          "name": "stdout",
          "text": [
            "20/20 [==============================] - 0s 1ms/step - loss: 96.0671\n"
          ]
        }
      ]
    },
    {
      "cell_type": "code",
      "source": [
        "print(accuracy)"
      ],
      "metadata": {
        "colab": {
          "base_uri": "https://localhost:8080/"
        },
        "id": "le_0XsRb5ICv",
        "outputId": "d42f8733-d7ad-46bc-9277-27ecd8be0a83"
      },
      "execution_count": 56,
      "outputs": [
        {
          "output_type": "stream",
          "name": "stdout",
          "text": [
            "96.06710052490234\n"
          ]
        }
      ]
    },
    {
      "cell_type": "markdown",
      "source": [
        "Strangely when the model is ran through the evaluate function to test its accuracy, it's loss value is much lower, pehaps indecating that the model may be able to be improved further."
      ],
      "metadata": {
        "id": "LFDIKbt2Eys5"
      }
    },
    {
      "cell_type": "code",
      "source": [
        "new_data = np.array([12,3.5,100])\n",
        "\n",
        "predictions = model.predict(new_data)\n",
        "print(predictions)"
      ],
      "metadata": {
        "colab": {
          "base_uri": "https://localhost:8080/"
        },
        "id": "p3rp5nnn9F2U",
        "outputId": "f718ff60-d95e-4d77-a817-74e3597bac12"
      },
      "execution_count": 57,
      "outputs": [
        {
          "output_type": "stream",
          "name": "stdout",
          "text": [
            "1/1 [==============================] - 0s 48ms/step\n",
            "[[515.8599 ]\n",
            " [507.83664]\n",
            " [598.9247 ]]\n"
          ]
        }
      ]
    },
    {
      "cell_type": "markdown",
      "source": [
        "when new data is added and ran through the model to predict the collisions, there are no glaring issues that can be seen. All predictions are within reasonable bounds based on the rest of the data. This report is continued in part 2."
      ],
      "metadata": {
        "id": "xmIglQWoFWQ_"
      }
    }
  ]
}